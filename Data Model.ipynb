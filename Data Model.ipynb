{
 "cells": [
  {
   "cell_type": "markdown",
   "id": "17ca99f3-6c9c-460f-9c08-0f899728029f",
   "metadata": {},
   "source": [
    "## Exercise 1: Creating a Table with PostgreSQL\n"
   ]
  },
  {
   "cell_type": "code",
   "execution_count": 1,
   "id": "c942002b-811a-4cf0-a46f-d02492de940f",
   "metadata": {},
   "outputs": [
    {
     "name": "stdout",
     "output_type": "stream",
     "text": [
      "Collecting psycopg2\n",
      "  Downloading psycopg2-2.9.9-cp311-cp311-win_amd64.whl.metadata (4.5 kB)\n",
      "Downloading psycopg2-2.9.9-cp311-cp311-win_amd64.whl (1.2 MB)\n",
      "   ---------------------------------------- 0.0/1.2 MB ? eta -:--:--\n",
      "   ---------------------------------------- 0.0/1.2 MB ? eta -:--:--\n",
      "   ---------------------------------------- 0.0/1.2 MB ? eta -:--:--\n",
      "   - -------------------------------------- 0.0/1.2 MB 393.8 kB/s eta 0:00:03\n",
      "   ----- ---------------------------------- 0.2/1.2 MB 1.3 MB/s eta 0:00:01\n",
      "   ----------------------- ---------------- 0.7/1.2 MB 4.3 MB/s eta 0:00:01\n",
      "   ---------------------------------------  1.2/1.2 MB 6.1 MB/s eta 0:00:01\n",
      "   ---------------------------------------  1.2/1.2 MB 6.1 MB/s eta 0:00:01\n",
      "   ---------------------------------------- 1.2/1.2 MB 4.3 MB/s eta 0:00:00\n",
      "Installing collected packages: psycopg2\n",
      "Successfully installed psycopg2-2.9.9\n"
     ]
    },
    {
     "name": "stderr",
     "output_type": "stream",
     "text": [
      "DEPRECATION: textract 1.6.5 has a non-standard dependency specifier extract-msg<=0.29.*. pip 24.1 will enforce this behaviour change. A possible replacement is to upgrade to a newer version of textract or contact the author to suggest that they release a version with a conforming dependency specifiers. Discussion can be found at https://github.com/pypa/pip/issues/12063\n",
      "\n",
      "[notice] A new release of pip is available: 24.0 -> 24.2\n",
      "[notice] To update, run: python.exe -m pip install --upgrade pip\n"
     ]
    }
   ],
   "source": [
    "!pip install psycopg2"
   ]
  },
  {
   "cell_type": "markdown",
   "id": "7244a0e6-fdf4-41be-a0c8-7c15b9b376c4",
   "metadata": {},
   "source": [
    "## Import the library"
   ]
  },
  {
   "cell_type": "code",
   "execution_count": 2,
   "id": "940d35c0-2756-4b3f-8fa8-dab370b42609",
   "metadata": {},
   "outputs": [],
   "source": [
    "import psycopg2"
   ]
  },
  {
   "cell_type": "markdown",
   "id": "57e90d81-f002-4d65-b616-bc43c135fd9f",
   "metadata": {},
   "source": [
    "## Create a connection to the database"
   ]
  },
  {
   "cell_type": "code",
   "execution_count": 5,
   "id": "b738e0c9-5eef-45d4-baea-44d0c87f5ef8",
   "metadata": {},
   "outputs": [],
   "source": [
    "try:\n",
    "  conn=psycopg2.connect('host=127.0.0.1 dbname=postgres user=postgres password=root')\n",
    "except psycopg2.Error as e:\n",
    "    print('error:could not get cursor to the database')\n",
    "    print(e)"
   ]
  },
  {
   "cell_type": "markdown",
   "id": "05588644-b8de-487f-80dc-cb6d5c3201c7",
   "metadata": {},
   "source": [
    "### Use the connection to get a cursor that can be used to execute queries.\n"
   ]
  },
  {
   "cell_type": "code",
   "execution_count": 6,
   "id": "d8ee2cfa-5b51-4e9c-928f-f7b0e192a4ba",
   "metadata": {},
   "outputs": [],
   "source": [
    "try:\n",
    "  curr= conn.cursor()\n",
    "except psycopg2.Error as e:\n",
    "    print('error:could not get cursor to the database')\n",
    "    print(e)"
   ]
  },
  {
   "cell_type": "markdown",
   "id": "eb3ca883-59c5-4133-aa70-a24bea59e74b",
   "metadata": {},
   "source": [
    "### Set automatic commit to be true so that each action is committed without having to call conn.commit() after each command"
   ]
  },
  {
   "cell_type": "code",
   "execution_count": 7,
   "id": "2d88ab0c-8286-412d-adfa-613357cacf1f",
   "metadata": {},
   "outputs": [],
   "source": [
    "conn.set_session(autocommit=True)"
   ]
  },
  {
   "cell_type": "markdown",
   "id": "f96ce915-47ad-4fe1-aba5-a5ca6a9b294b",
   "metadata": {},
   "source": [
    "### Create a database to do the work in"
   ]
  },
  {
   "cell_type": "code",
   "execution_count": 9,
   "id": "357ee963-d3de-4db0-b10a-309ca5528bef",
   "metadata": {},
   "outputs": [],
   "source": [
    "try:\n",
    "  curr.execute('create database myfirstdb')\n",
    "except psycopg2.Error as e:\n",
    "    print('error:could not get cursor to the database')\n",
    "    print(e)"
   ]
  },
  {
   "cell_type": "markdown",
   "id": "4c7d32fd-43fa-4b92-9638-0358274ac7ec",
   "metadata": {},
   "source": [
    "## Let's close our connection to the default database, reconnect to the Udacity database, and get a new cursor"
   ]
  },
  {
   "cell_type": "code",
   "execution_count": 10,
   "id": "1dacbe19-bb74-4a70-8482-bb5b46bd4fe5",
   "metadata": {},
   "outputs": [],
   "source": [
    "conn.close()\n",
    "conn=psycopg2.connect('host=127.0.0.1 dbname=myfirstdb user=postgres password=root')\n",
    "cur=conn.cursor()\n",
    "conn.set_session(autocommit=True)"
   ]
  },
  {
   "cell_type": "markdown",
   "id": "9abb980e-8124-402e-ba59-d367729127c5",
   "metadata": {},
   "source": [
    "## Create Table for students which includes below columns\n",
    "\n",
    "student_i\n",
    "\r\n",
    "name\r\n",
    "age\r\n",
    "gender\r\n",
    "subject\r\n",
    "marks"
   ]
  },
  {
   "cell_type": "code",
   "execution_count": 12,
   "id": "f67d15bd-fce3-4f2c-a893-a88e912ebc28",
   "metadata": {},
   "outputs": [],
   "source": [
    "try: \n",
    "    cur.execute('CREATE TABLE IF NOT EXISTS students (student_id int, name varchar, age int, gender varchar, subject varchar, marks int);')\n",
    "except psycopg2.Error as e: \n",
    "    print(\"Error: Issue creating table\")\n",
    "    print (e)"
   ]
  },
  {
   "cell_type": "markdown",
   "id": "d8eaa6f2-1410-44c3-8c53-7a78f68cc9fe",
   "metadata": {},
   "source": [
    "## Insert the following two rows in the table\n",
    "\r\n",
    "First Row: 1, \"Raj\", 23, \"Male\", \"Python\", 85\r\n",
    "\r\n",
    "Second Row: 2, \"Priya\", 22, \"Female\", \"Python\", 86"
   ]
  },
  {
   "cell_type": "code",
   "execution_count": 19,
   "id": "593a3e3a-6570-4798-a4ef-ca32670c2aef",
   "metadata": {},
   "outputs": [],
   "source": [
    "\n",
    "try: \n",
    "    cur.execute('INSERT INTO students (student_id,name,age,gender,subject,marks) Values \\\n",
    "                 (%s,%s,%s,%s,%s,%s)',\\\n",
    "                 (1,'raj',23,'Male','python',85))\n",
    "except psycopg2.Error as e: \n",
    "    print(\"Error: Inserting Rows\")\n",
    "    print (e)\n",
    "    \n",
    "try: \n",
    "    cur.execute(\"INSERT INTO students (student_id, name, age, gender, subject, marks) \\\n",
    "                  VALUES (%s, %s, %s, %s, %s, %s)\",\n",
    "                  ( 2, \"Priya\", 22, \"Female\", \"Python\", 86))\n",
    "except psycopg2.Error as e: \n",
    "    print(\"Error: Inserting Rows\")\n",
    "    print (e)"
   ]
  },
  {
   "cell_type": "markdown",
   "id": "af03ad7a-0912-43d1-b717-3649e5c9b5cf",
   "metadata": {},
   "source": [
    "## Validate your data was inserted into the table."
   ]
  },
  {
   "cell_type": "code",
   "execution_count": 25,
   "id": "e3a44a48-48af-4c1e-9c88-e4254b41746d",
   "metadata": {},
   "outputs": [
    {
     "name": "stdout",
     "output_type": "stream",
     "text": [
      "(1, 'raj', 23, 'Male', 'python', 85)\n",
      "(2, 'Priya', 22, 'Female', 'Python', 86)\n"
     ]
    }
   ],
   "source": [
    "try: \n",
    "    cur.execute('select * from students;')\n",
    "except psycopg2.Error as e: \n",
    "    print(\"Error: select *\")\n",
    "    print (e)\n",
    "row=cur.fetchone()\n",
    "while row:\n",
    "  print(row)\n",
    "  row=cur.fetchone()"
   ]
  },
  {
   "cell_type": "markdown",
   "id": "53a84be4-8d68-424f-b952-9984a2a19302",
   "metadata": {},
   "source": [
    "## And finally close your cursor and connection."
   ]
  },
  {
   "cell_type": "code",
   "execution_count": 2,
   "id": "2a3ebe5a-8696-4e03-af52-cd2c4735c3a7",
   "metadata": {},
   "outputs": [
    {
     "ename": "NameError",
     "evalue": "name 'cur' is not defined",
     "output_type": "error",
     "traceback": [
      "\u001b[1;31m---------------------------------------------------------------------------\u001b[0m",
      "\u001b[1;31mNameError\u001b[0m                                 Traceback (most recent call last)",
      "Cell \u001b[1;32mIn[2], line 1\u001b[0m\n\u001b[1;32m----> 1\u001b[0m cur\u001b[38;5;241m.\u001b[39mclose()\n\u001b[0;32m      2\u001b[0m conn\u001b[38;5;241m.\u001b[39mclose()\n",
      "\u001b[1;31mNameError\u001b[0m: name 'cur' is not defined"
     ]
    }
   ],
   "source": [
    "cur.close()\n",
    "conn.close()"
   ]
  },
  {
   "cell_type": "code",
   "execution_count": null,
   "id": "7f6aa61d-f191-4def-b485-2194d2975b60",
   "metadata": {},
   "outputs": [],
   "source": []
  }
 ],
 "metadata": {
  "kernelspec": {
   "display_name": "Python 3 (ipykernel)",
   "language": "python",
   "name": "python3"
  },
  "language_info": {
   "codemirror_mode": {
    "name": "ipython",
    "version": 3
   },
   "file_extension": ".py",
   "mimetype": "text/x-python",
   "name": "python",
   "nbconvert_exporter": "python",
   "pygments_lexer": "ipython3",
   "version": "3.11.7"
  }
 },
 "nbformat": 4,
 "nbformat_minor": 5
}
